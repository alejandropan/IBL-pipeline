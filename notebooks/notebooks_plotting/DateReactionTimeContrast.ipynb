{
 "cells": [
  {
   "cell_type": "code",
   "execution_count": 24,
   "metadata": {},
   "outputs": [
    {
     "data": {
      "text/html": [
       "        <script type=\"text/javascript\">\n",
       "        window.PlotlyConfig = {MathJaxConfig: 'local'};\n",
       "        if (window.MathJax) {MathJax.Hub.Config({SVG: {font: \"STIX-Web\"}});}\n",
       "        if (typeof require !== 'undefined') {\n",
       "        require.undef(\"plotly\");\n",
       "        requirejs.config({\n",
       "            paths: {\n",
       "                'plotly': ['https://cdn.plot.ly/plotly-latest.min']\n",
       "            }\n",
       "        });\n",
       "        require(['plotly'], function(Plotly) {\n",
       "            window._Plotly = Plotly;\n",
       "        });\n",
       "        }\n",
       "        </script>\n",
       "        "
      ]
     },
     "metadata": {},
     "output_type": "display_data"
    }
   ],
   "source": [
    "from ibl_pipeline.analyses import behavior as behavior_analyses\n",
    "from ibl_pipeline import behavior as behavior\n",
    "from ibl_pipeline import subject, acquisition\n",
    "from ibl_pipeline.utils import psychofit as psy\n",
    "import plotting_utils as putils\n",
    "from uuid import UUID\n",
    "import numpy as np\n",
    "import datetime\n",
    "import datajoint as dj\n",
    "import json\n",
    "import seaborn as sns\n",
    "import pandas as pd\n",
    "import plotly\n",
    "import plotly.graph_objs as go\n",
    "import statsmodels.stats.proportion as smp\n",
    "plotly.offline.init_notebook_mode(connected=True)"
   ]
  },
  {
   "cell_type": "code",
   "execution_count": 25,
   "metadata": {},
   "outputs": [
    {
     "data": {
      "application/vnd.plotly.v1+json": {
       "config": {
        "linkText": "Export to plot.ly",
        "plotlyServerURL": "https://plot.ly",
        "responsive": true,
        "showLink": false
       },
       "data": [
        {
         "error_y": {
          "array": [
           0.04384999999999195,
           0.023000000000010346,
           0.008000000000009777,
           0.4321000000000481,
           0.10550000000000104,
           0.05535000000000423,
           0.05189999999998918,
           0.032399999999995543,
           0
          ],
          "arrayminus": [
           0.03585000000000349,
           0.03294999999998538,
           0.12579999999999814,
           0.2131000000000256,
           0.13974999999995497,
           0.05285000000000162,
           0.1945000000000121,
           0.019300000000015416,
           0.0341999999999949
          ],
          "color": "rgba(0.133, 0.133, 0.133, 0.3)",
          "type": "data",
          "visible": true
         },
         "marker": {
          "size": 6
         },
         "mode": "none",
         "showlegend": false,
         "type": "scatter",
         "uid": "13773005-5b6a-4880-bf5d-e706fe487893",
         "x": [
          -1,
          -0.25,
          -0.05999999865889549,
          -0.019999999552965164,
          0,
          0.019999999552965164,
          0.05999999865889549,
          0.25,
          1
         ],
         "y": [
          0.30415000000001413,
          0.28709999999999525,
          0.4508999999999901,
          0.614200000000011,
          0.4179499999999816,
          0.3319500000000013,
          0.5697000000000116,
          0.25039999999998486,
          0.2541999999999973
         ]
        },
        {
         "error_y": {
          "array": [
           0.028999999999996362,
           0.009000000000014552,
           0.030700000000024374,
           0.016200000000083037,
           0.06889999999992824,
           0.143950000000018,
           0,
           0,
           0
          ],
          "arrayminus": [
           0.08935000000002447,
           0.04529999999999745,
           0.07779999999991105,
           0.04144999999996912,
           0.08950000000015734,
           0.14639999999997144,
           0.5720000000001164,
           0.018100000000004002,
           0.148900000000026
          ],
          "color": "rgba(0.7634747047461135, 0.3348456555528834, 0.225892295531744, 0.3)",
          "type": "data",
          "visible": true
         },
         "marker": {
          "size": 6
         },
         "mode": "none",
         "showlegend": false,
         "type": "scatter",
         "uid": "d879aea5-0b26-449d-8e69-50b3a31f556a",
         "x": [
          -1,
          -0.25,
          -0.05999999865889549,
          -0.019999999552965164,
          0,
          0.019999999552965164,
          0.05999999865889549,
          0.25,
          1
         ],
         "y": [
          0.31929999999999836,
          0.3407999999999447,
          0.331299999999942,
          0.434599999999989,
          0.3734000000000606,
          0.42714999999998327,
          0.8816000000001623,
          0.23730000000000473,
          0.23440000000005057
         ]
        },
        {
         "error_y": {
          "array": [
           0.006050000000016098,
           0.01140000000003738,
           0,
           0.030200000000036198,
           0.044750000000135515,
           0.011999999999943611,
           0.01160000000004402,
           0.010699999999928878,
           0.006199999999978445
          ],
          "arrayminus": [
           0.022449999999992087,
           0.03974999999991269,
           0.5290000000000532,
           0.03129999999998745,
           0.06349999999991951,
           0.02650000000005548,
           0.029499999999870852,
           0.016799999999989268,
           0.008300000000019736
          ],
          "color": "rgba(0.24715576253545807, 0.49918708160096675, 0.5765599057376697, 0.3)",
          "type": "data",
          "visible": true
         },
         "marker": {
          "size": 6
         },
         "mode": "none",
         "showlegend": false,
         "type": "scatter",
         "uid": "2cdd0eea-f6b2-4c4b-96fd-9e3584e075d7",
         "x": [
          -1,
          -0.25,
          -0.05999999865889549,
          -0.019999999552965164,
          0,
          0.019999999552965164,
          0.05999999865889549,
          0.25,
          1
         ],
         "y": [
          0.2609499999999798,
          0.31224999999994907,
          0.7545000000000073,
          0.245900000000006,
          0.3403999999999314,
          0.26310000000000855,
          0.3064999999999145,
          0.23050000000000637,
          0.21970000000004575
         ]
        },
        {
         "marker": {
          "color": "rgba(0.133, 0.133, 0.133, 1.0)",
          "size": 6
         },
         "mode": "markers+lines",
         "name": "p_left = 0.5",
         "type": "scatter",
         "uid": "7b207a72-e48c-4bf8-84ce-491419eedec2",
         "x": [
          -1,
          -0.25,
          -0.05999999865889549,
          -0.019999999552965164,
          0,
          0.019999999552965164,
          0.05999999865889549,
          0.25,
          1
         ],
         "y": [
          0.30415000000001413,
          0.28709999999999525,
          0.4508999999999901,
          0.614200000000011,
          0.4179499999999816,
          0.3319500000000013,
          0.5697000000000116,
          0.25039999999998486,
          0.2541999999999973
         ]
        },
        {
         "marker": {
          "color": "rgba(0.7634747047461135, 0.3348456555528834, 0.225892295531744, 1.0)",
          "size": 6
         },
         "mode": "markers+lines",
         "name": "p_left = 0.2",
         "type": "scatter",
         "uid": "59df2682-2ed2-4eae-88ec-e5bd55f66c7c",
         "x": [
          -1,
          -0.25,
          -0.05999999865889549,
          -0.019999999552965164,
          0,
          0.019999999552965164,
          0.05999999865889549,
          0.25,
          1
         ],
         "y": [
          0.31929999999999836,
          0.3407999999999447,
          0.331299999999942,
          0.434599999999989,
          0.3734000000000606,
          0.42714999999998327,
          0.8816000000001623,
          0.23730000000000473,
          0.23440000000005057
         ]
        },
        {
         "marker": {
          "color": "rgba(0.24715576253545807, 0.49918708160096675, 0.5765599057376697, 1.0)",
          "size": 6
         },
         "mode": "markers+lines",
         "name": "p_left = 0.8",
         "type": "scatter",
         "uid": "6663158d-7dea-4e42-9d52-400d5a19b308",
         "x": [
          -1,
          -0.25,
          -0.05999999865889549,
          -0.019999999552965164,
          0,
          0.019999999552965164,
          0.05999999865889549,
          0.25,
          1
         ],
         "y": [
          0.2609499999999798,
          0.31224999999994907,
          0.7545000000000073,
          0.245900000000006,
          0.3403999999999314,
          0.26310000000000855,
          0.3064999999999145,
          0.23050000000000637,
          0.21970000000004575
         ]
        }
       ],
       "layout": {
        "height": 400,
        "title": {
         "text": "Reaction time - contrast"
        },
        "width": 630,
        "xaxis": {
         "title": {
          "text": "Contrast (%)"
         }
        },
        "yaxis": {
         "title": {
          "text": "Reaction time (s)"
         }
        }
       }
      },
      "text/html": [
       "<div>\n",
       "        \n",
       "        \n",
       "            <div id=\"b4769b5b-8fe0-4fb9-89db-a650617115bc\" class=\"plotly-graph-div\" style=\"height:400px; width:630px;\"></div>\n",
       "            <script type=\"text/javascript\">\n",
       "                require([\"plotly\"], function(Plotly) {\n",
       "                    window.PLOTLYENV=window.PLOTLYENV || {};\n",
       "                    window.PLOTLYENV.BASE_URL='https://plot.ly';\n",
       "                    \n",
       "                if (document.getElementById(\"b4769b5b-8fe0-4fb9-89db-a650617115bc\")) {\n",
       "                    Plotly.newPlot(\n",
       "                        'b4769b5b-8fe0-4fb9-89db-a650617115bc',\n",
       "                        [{\"error_y\": {\"array\": [0.04384999999999195, 0.023000000000010346, 0.008000000000009777, 0.4321000000000481, 0.10550000000000104, 0.05535000000000423, 0.05189999999998918, 0.032399999999995543, 0.0], \"arrayminus\": [0.03585000000000349, 0.03294999999998538, 0.12579999999999814, 0.2131000000000256, 0.13974999999995497, 0.05285000000000162, 0.1945000000000121, 0.019300000000015416, 0.0341999999999949], \"color\": \"rgba(0.133, 0.133, 0.133, 0.3)\", \"type\": \"data\", \"visible\": true}, \"marker\": {\"size\": 6}, \"mode\": \"none\", \"showlegend\": false, \"type\": \"scatter\", \"uid\": \"3c0c6022-515e-4e3b-ab04-c52754186389\", \"x\": [-1.0, -0.25, -0.05999999865889549, -0.019999999552965164, 0.0, 0.019999999552965164, 0.05999999865889549, 0.25, 1.0], \"y\": [0.30415000000001413, 0.28709999999999525, 0.4508999999999901, 0.614200000000011, 0.4179499999999816, 0.3319500000000013, 0.5697000000000116, 0.25039999999998486, 0.2541999999999973]}, {\"error_y\": {\"array\": [0.028999999999996362, 0.009000000000014552, 0.030700000000024374, 0.016200000000083037, 0.06889999999992824, 0.143950000000018, 0.0, 0.0, 0.0], \"arrayminus\": [0.08935000000002447, 0.04529999999999745, 0.07779999999991105, 0.04144999999996912, 0.08950000000015734, 0.14639999999997144, 0.5720000000001164, 0.018100000000004002, 0.148900000000026], \"color\": \"rgba(0.7634747047461135, 0.3348456555528834, 0.225892295531744, 0.3)\", \"type\": \"data\", \"visible\": true}, \"marker\": {\"size\": 6}, \"mode\": \"none\", \"showlegend\": false, \"type\": \"scatter\", \"uid\": \"7375a7e7-0719-4696-98ec-3a4573c18798\", \"x\": [-1.0, -0.25, -0.05999999865889549, -0.019999999552965164, 0.0, 0.019999999552965164, 0.05999999865889549, 0.25, 1.0], \"y\": [0.31929999999999836, 0.3407999999999447, 0.331299999999942, 0.434599999999989, 0.3734000000000606, 0.42714999999998327, 0.8816000000001623, 0.23730000000000473, 0.23440000000005057]}, {\"error_y\": {\"array\": [0.006050000000016098, 0.01140000000003738, 0.0, 0.030200000000036198, 0.044750000000135515, 0.011999999999943611, 0.01160000000004402, 0.010699999999928878, 0.006199999999978445], \"arrayminus\": [0.022449999999992087, 0.03974999999991269, 0.5290000000000532, 0.03129999999998745, 0.06349999999991951, 0.02650000000005548, 0.029499999999870852, 0.016799999999989268, 0.008300000000019736], \"color\": \"rgba(0.24715576253545807, 0.49918708160096675, 0.5765599057376697, 0.3)\", \"type\": \"data\", \"visible\": true}, \"marker\": {\"size\": 6}, \"mode\": \"none\", \"showlegend\": false, \"type\": \"scatter\", \"uid\": \"1ef317da-3c79-4a51-945b-eebaace3b79f\", \"x\": [-1.0, -0.25, -0.05999999865889549, -0.019999999552965164, 0.0, 0.019999999552965164, 0.05999999865889549, 0.25, 1.0], \"y\": [0.2609499999999798, 0.31224999999994907, 0.7545000000000073, 0.245900000000006, 0.3403999999999314, 0.26310000000000855, 0.3064999999999145, 0.23050000000000637, 0.21970000000004575]}, {\"marker\": {\"color\": \"rgba(0.133, 0.133, 0.133, 1.0)\", \"size\": 6}, \"mode\": \"markers+lines\", \"name\": \"p_left = 0.5\", \"type\": \"scatter\", \"uid\": \"02a0da05-1fe8-426e-a735-b60cc8fc7ecd\", \"x\": [-1.0, -0.25, -0.05999999865889549, -0.019999999552965164, 0.0, 0.019999999552965164, 0.05999999865889549, 0.25, 1.0], \"y\": [0.30415000000001413, 0.28709999999999525, 0.4508999999999901, 0.614200000000011, 0.4179499999999816, 0.3319500000000013, 0.5697000000000116, 0.25039999999998486, 0.2541999999999973]}, {\"marker\": {\"color\": \"rgba(0.7634747047461135, 0.3348456555528834, 0.225892295531744, 1.0)\", \"size\": 6}, \"mode\": \"markers+lines\", \"name\": \"p_left = 0.2\", \"type\": \"scatter\", \"uid\": \"d2e10483-0e0b-412d-b643-94f8af0fba39\", \"x\": [-1.0, -0.25, -0.05999999865889549, -0.019999999552965164, 0.0, 0.019999999552965164, 0.05999999865889549, 0.25, 1.0], \"y\": [0.31929999999999836, 0.3407999999999447, 0.331299999999942, 0.434599999999989, 0.3734000000000606, 0.42714999999998327, 0.8816000000001623, 0.23730000000000473, 0.23440000000005057]}, {\"marker\": {\"color\": \"rgba(0.24715576253545807, 0.49918708160096675, 0.5765599057376697, 1.0)\", \"size\": 6}, \"mode\": \"markers+lines\", \"name\": \"p_left = 0.8\", \"type\": \"scatter\", \"uid\": \"502b3c76-c4c1-47e4-89ba-cdba8194e4ff\", \"x\": [-1.0, -0.25, -0.05999999865889549, -0.019999999552965164, 0.0, 0.019999999552965164, 0.05999999865889549, 0.25, 1.0], \"y\": [0.2609499999999798, 0.31224999999994907, 0.7545000000000073, 0.245900000000006, 0.3403999999999314, 0.26310000000000855, 0.3064999999999145, 0.23050000000000637, 0.21970000000004575]}],\n",
       "                        {\"height\": 400, \"title\": {\"text\": \"Reaction time - contrast\"}, \"width\": 630, \"xaxis\": {\"title\": {\"text\": \"Contrast (%)\"}}, \"yaxis\": {\"title\": {\"text\": \"Reaction time (s)\"}}},\n",
       "                        {\"showLink\": false, \"linkText\": \"Export to plot.ly\", \"plotlyServerURL\": \"https://plot.ly\", \"responsive\": true}\n",
       "                    ).then(function(){\n",
       "                            \n",
       "var gd = document.getElementById('b4769b5b-8fe0-4fb9-89db-a650617115bc');\n",
       "var x = new MutationObserver(function (mutations, observer) {{\n",
       "        var display = window.getComputedStyle(gd).display;\n",
       "        if (!display || display === 'none') {{\n",
       "            console.log([gd, 'removed!']);\n",
       "            Plotly.purge(gd);\n",
       "            observer.disconnect();\n",
       "        }}\n",
       "}});\n",
       "\n",
       "// Listen for the removal of the full notebook cells\n",
       "var notebookContainer = gd.closest('#notebook-container');\n",
       "if (notebookContainer) {{\n",
       "    x.observe(notebookContainer, {childList: true});\n",
       "}}\n",
       "\n",
       "// Listen for the clearing of the current output cell\n",
       "var outputEl = gd.closest('.output');\n",
       "if (outputEl) {{\n",
       "    x.observe(outputEl, {childList: true});\n",
       "}}\n",
       "\n",
       "                        })\n",
       "                };\n",
       "                });\n",
       "            </script>\n",
       "        </div>"
      ]
     },
     "metadata": {},
     "output_type": "display_data"
    }
   ],
   "source": [
    "subj_uuid = (subject.Subject & 'subject_nickname=\"IBL_13\"').fetch1('subject_uuid')\n",
    "key = {'subject_uuid': subj_uuid,\n",
    "   'session_date': datetime.date(2019, 4, 8)}\n",
    "sessions = behavior_analyses.BehavioralSummaryByDate.PsychResults * behavior_analyses.BehavioralSummaryByDate.ReactionTimeContrast & key\n",
    "\n",
    "data_mean = []\n",
    "data_error = []\n",
    "\n",
    "for session in sessions.fetch('KEY'):\n",
    "    contrasts, prob_left, reaction_time, ci_low, ci_high = \\\n",
    "        (sessions & session).fetch1(\n",
    "            'signed_contrasts', 'prob_left', 'reaction_time_contrast', \n",
    "            'reaction_time_ci_low', 'reaction_time_ci_high')\n",
    "    error_low = reaction_time - ci_low\n",
    "    error_high = ci_high - reaction_time\n",
    "    \n",
    "    curve_color, error_color = putils.get_color(prob_left, 0.3)\n",
    "\n",
    "    rt_data = go.Scatter(\n",
    "        x=contrasts.tolist(),\n",
    "        y=reaction_time.tolist(),\n",
    "        marker=dict(\n",
    "            size=6,\n",
    "            color=curve_color),\n",
    "        mode='markers+lines',\n",
    "        name=f'p_left = {prob_left}'\n",
    "    )\n",
    "\n",
    "    rt_errorbar = go.Scatter(\n",
    "        x=contrasts.tolist(),\n",
    "        y=reaction_time.tolist(),\n",
    "        error_y=dict(\n",
    "            type='data',\n",
    "            array=error_high.tolist(),\n",
    "            arrayminus=error_low.tolist(),\n",
    "            visible=True,\n",
    "            color=error_color\n",
    "        ),\n",
    "        marker=dict(\n",
    "            size=6,\n",
    "        ),\n",
    "        mode='none',\n",
    "        showlegend=False\n",
    "    )\n",
    "    \n",
    "    data_mean.append(rt_data)\n",
    "    data_error.append(rt_errorbar)\n",
    "\n",
    "layout = go.Layout(\n",
    "    width=630,\n",
    "    height=400,\n",
    "    title='Reaction time - contrast', \n",
    "    xaxis={'title':'Contrast (%)'}, \n",
    "    yaxis={'title':'Reaction time (s)'},\n",
    ")\n",
    "\n",
    "data = data_error\n",
    "for element in data_mean:\n",
    "    data.append(element)\n",
    "\n",
    "fig = go.Figure(data=data, layout=layout)\n",
    "plotly.offline.iplot(fig)"
   ]
  },
  {
   "cell_type": "code",
   "execution_count": 22,
   "metadata": {},
   "outputs": [],
   "source": [
    "f = open(\"date_reaction_time_contrast.json\",\"w\")\n",
    "s = json.dumps(fig.to_plotly_json())\n",
    "f.write(s)\n",
    "f.close()"
   ]
  },
  {
   "cell_type": "code",
   "execution_count": null,
   "metadata": {},
   "outputs": [],
   "source": []
  }
 ],
 "metadata": {
  "kernelspec": {
   "display_name": "Python 3",
   "language": "python",
   "name": "python3"
  },
  "language_info": {
   "codemirror_mode": {
    "name": "ipython",
    "version": 3
   },
   "file_extension": ".py",
   "mimetype": "text/x-python",
   "name": "python",
   "nbconvert_exporter": "python",
   "pygments_lexer": "ipython3",
   "version": "3.6.6"
  }
 },
 "nbformat": 4,
 "nbformat_minor": 2
}
