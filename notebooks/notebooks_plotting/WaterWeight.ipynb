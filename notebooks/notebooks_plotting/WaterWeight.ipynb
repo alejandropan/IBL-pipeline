{
 "cells": [
  {
   "cell_type": "code",
   "execution_count": 1,
   "metadata": {},
   "outputs": [
    {
     "name": "stdout",
     "output_type": "stream",
     "text": [
      "Connecting shan@datajoint.internationalbrainlab.org:3306\n"
     ]
    }
   ],
   "source": [
    "from ibl_pipeline import behavior as behavior_analyses\n",
    "from ibl_pipeline import behavior as behavior\n",
    "from ibl_pipeline import subject, acquisition, action\n",
    "from ibl_pipeline.utils import psychofit as psy\n",
    "import plotting_utils as putils\n",
    "import numpy as np\n",
    "import datetime\n",
    "import datajoint as dj\n",
    "import json\n",
    "import pandas as pd\n",
    "from uuid import UUID"
   ]
  },
  {
   "cell_type": "code",
   "execution_count": 2,
   "metadata": {},
   "outputs": [
    {
     "data": {
      "text/html": [
       "        <script type=\"text/javascript\">\n",
       "        window.PlotlyConfig = {MathJaxConfig: 'local'};\n",
       "        if (window.MathJax) {MathJax.Hub.Config({SVG: {font: \"STIX-Web\"}});}\n",
       "        if (typeof require !== 'undefined') {\n",
       "        require.undef(\"plotly\");\n",
       "        requirejs.config({\n",
       "            paths: {\n",
       "                'plotly': ['https://cdn.plot.ly/plotly-latest.min']\n",
       "            }\n",
       "        });\n",
       "        require(['plotly'], function(Plotly) {\n",
       "            window._Plotly = Plotly;\n",
       "        });\n",
       "        }\n",
       "        </script>\n",
       "        "
      ]
     },
     "metadata": {},
     "output_type": "display_data"
    }
   ],
   "source": [
    "import plotly\n",
    "import plotly.graph_objs as go\n",
    "import statsmodels.stats.proportion as smp\n",
    "plotly.offline.init_notebook_mode(connected=True)"
   ]
  },
  {
   "cell_type": "code",
   "execution_count": 4,
   "metadata": {},
   "outputs": [],
   "source": [
    "water_type_names = action.WaterType.fetch('watertype_name')\n",
    "water_type_colors = ['red', 'orange', 'blue', 'rgba(55, 128, 191, 0.7)', 'purple', 'rgba(50, 171, 96, 0.9)'] \n",
    "water_type_map = dict()\n",
    "\n",
    "for watertype, color in zip(water_type_names, water_type_colors):\n",
    "    water_type_map.update({watertype: color})"
   ]
  },
  {
   "cell_type": "code",
   "execution_count": 5,
   "metadata": {},
   "outputs": [
    {
     "data": {
      "application/vnd.plotly.v1+json": {
       "config": {
        "linkText": "Export to plot.ly",
        "plotlyServerURL": "https://plot.ly",
        "responsive": true,
        "showLink": false
       },
       "data": [
        {
         "legendgroup": "water_type",
         "marker": {
          "color": "rgba(55, 128, 191, 0.7)"
         },
         "name": "Water 10% Sucrose",
         "type": "bar",
         "uid": "60a3a399-bb79-4e1c-8a55-22468ff6e990",
         "x": [
          "2019-02-19",
          "2019-02-21",
          "2019-02-22",
          "2019-02-23",
          "2019-02-24",
          "2019-02-25",
          "2019-02-26",
          "2019-02-27",
          "2019-02-28",
          "2019-03-01",
          "2019-03-02",
          "2019-03-03",
          "2019-03-04",
          "2019-03-06",
          "2019-03-07",
          "2019-03-08",
          "2019-03-09",
          "2019-03-10",
          "2019-03-11",
          "2019-03-12",
          "2019-03-13",
          "2019-03-14",
          "2019-03-15",
          "2019-03-16",
          "2019-03-17",
          "2019-03-18",
          "2019-03-19",
          "2019-03-20",
          "2019-03-21",
          "2019-03-22",
          "2019-03-23",
          "2019-03-24",
          "2019-03-25",
          "2019-03-26",
          "2019-03-27",
          "2019-03-28",
          "2019-03-29",
          "2019-03-30",
          "2019-03-31",
          "2019-04-01",
          "2019-04-02",
          "2019-04-03",
          "2019-04-04",
          "2019-04-05",
          "2019-04-06",
          "2019-04-07",
          "2019-04-09",
          "2019-04-10",
          "2019-04-11",
          "2019-04-12",
          "2019-04-13",
          "2019-04-14",
          "2019-04-15",
          "2019-04-16",
          "2019-04-17",
          "2019-04-18",
          "2019-04-19",
          "2019-04-20",
          "2019-04-21",
          "2019-04-22",
          "2019-04-23",
          "2019-04-24",
          "2019-04-25",
          "2019-04-26",
          "2019-04-29",
          "2019-04-30",
          "2019-05-01",
          "2019-05-03",
          "2019-05-06",
          "2019-05-07",
          "2019-05-08",
          "2019-05-09",
          "2019-05-22",
          "2019-05-23"
         ],
         "y": [
          1.278,
          0.7231000000000001,
          null,
          null,
          null,
          null,
          null,
          null,
          null,
          null,
          null,
          null,
          null,
          null,
          null,
          0.5536,
          0.1683,
          null,
          0.5508,
          0.567,
          1.6173,
          0.36,
          1.9388,
          null,
          null,
          1.548,
          0.812,
          0.6698,
          2.0265,
          0.4284,
          null,
          null,
          0.511,
          0.9828,
          2.61,
          2.1035,
          1.5368,
          null,
          null,
          1.5774,
          1.1392,
          2.1328,
          1.5704,
          1.782,
          null,
          null,
          4.091,
          2.1644,
          2.3408,
          1.9737,
          null,
          null,
          2.6865,
          2.5636,
          2.2775,
          1.692,
          1.5203,
          null,
          null,
          1.2236,
          0.5874,
          1.0131,
          2.2034,
          1.0098,
          1.7367,
          1.338,
          1.8905,
          0.225,
          1.7595,
          0.5616,
          1.6031,
          1.224,
          0.6704,
          0.8075
         ],
         "yaxis": "y"
        },
        {
         "legendgroup": "water_type",
         "marker": {
          "color": "blue"
         },
         "name": "Water",
         "type": "bar",
         "uid": "3a2e3f03-6c44-4878-b18b-25a4efa95b1c",
         "x": [
          "2019-02-19",
          "2019-02-21",
          "2019-02-22",
          "2019-02-23",
          "2019-02-24",
          "2019-02-25",
          "2019-02-26",
          "2019-02-27",
          "2019-02-28",
          "2019-03-01",
          "2019-03-02",
          "2019-03-03",
          "2019-03-04",
          "2019-03-06",
          "2019-03-07",
          "2019-03-08",
          "2019-03-09",
          "2019-03-10",
          "2019-03-11",
          "2019-03-12",
          "2019-03-13",
          "2019-03-14",
          "2019-03-15",
          "2019-03-16",
          "2019-03-17",
          "2019-03-18",
          "2019-03-19",
          "2019-03-20",
          "2019-03-21",
          "2019-03-22",
          "2019-03-23",
          "2019-03-24",
          "2019-03-25",
          "2019-03-26",
          "2019-03-27",
          "2019-03-28",
          "2019-03-29",
          "2019-03-30",
          "2019-03-31",
          "2019-04-01",
          "2019-04-02",
          "2019-04-03",
          "2019-04-04",
          "2019-04-05",
          "2019-04-06",
          "2019-04-07",
          "2019-04-09",
          "2019-04-10",
          "2019-04-11",
          "2019-04-12",
          "2019-04-13",
          "2019-04-14",
          "2019-04-15",
          "2019-04-16",
          "2019-04-17",
          "2019-04-18",
          "2019-04-19",
          "2019-04-20",
          "2019-04-21",
          "2019-04-22",
          "2019-04-23",
          "2019-04-24",
          "2019-04-25",
          "2019-04-26",
          "2019-04-29",
          "2019-04-30",
          "2019-05-01",
          "2019-05-03",
          "2019-05-06",
          "2019-05-07",
          "2019-05-08",
          "2019-05-09",
          "2019-05-22",
          "2019-05-23"
         ],
         "y": [
          null,
          null,
          0,
          0,
          0,
          0,
          0,
          0,
          0,
          0,
          0,
          0,
          0,
          1,
          1,
          null,
          1,
          1,
          null,
          null,
          null,
          null,
          null,
          1,
          1,
          null,
          null,
          null,
          null,
          null,
          1,
          1,
          null,
          null,
          null,
          null,
          null,
          1,
          1,
          null,
          null,
          null,
          null,
          null,
          1,
          1,
          null,
          null,
          null,
          null,
          1,
          1,
          null,
          null,
          null,
          null,
          null,
          1,
          1,
          null,
          null,
          null,
          null,
          null,
          null,
          null,
          null,
          null,
          null,
          null,
          null,
          null,
          null,
          null
         ],
         "yaxis": "y"
        },
        {
         "legendgroup": "weight",
         "marker": {
          "color": "black",
          "line": {
           "color": "white",
           "width": 1
          },
          "size": 6
         },
         "mode": "lines+markers",
         "name": "Weight",
         "type": "scatter",
         "uid": "bcae283e-bca5-4122-940e-7898be006ad9",
         "x": [
          "2019-02-19",
          "2019-02-19",
          "2019-02-21",
          "2019-02-21",
          "2019-03-05",
          "2019-03-06",
          "2019-03-07",
          "2019-03-08",
          "2019-03-09",
          "2019-03-11",
          "2019-03-12",
          "2019-03-13",
          "2019-03-13",
          "2019-03-14",
          "2019-03-15",
          "2019-03-18",
          "2019-03-19",
          "2019-03-20",
          "2019-03-21",
          "2019-03-22",
          "2019-03-25",
          "2019-03-26",
          "2019-03-27",
          "2019-03-28",
          "2019-03-29",
          "2019-04-01",
          "2019-04-02",
          "2019-04-03",
          "2019-04-04",
          "2019-04-04",
          "2019-04-05",
          "2019-04-08",
          "2019-04-09",
          "2019-04-09",
          "2019-04-10",
          "2019-04-11",
          "2019-04-12",
          "2019-04-15",
          "2019-04-16",
          "2019-04-17",
          "2019-04-18",
          "2019-04-19",
          "2019-04-22",
          "2019-04-23",
          "2019-04-24",
          "2019-04-24",
          "2019-04-25",
          "2019-04-26",
          "2019-04-29",
          "2019-04-30",
          "2019-05-01",
          "2019-05-03",
          "2019-05-06",
          "2019-05-07",
          "2019-05-08",
          "2019-05-09",
          "2019-05-22",
          "2019-05-23"
         ],
         "y": [
          17.45,
          18,
          17.6,
          17.3,
          22.9,
          21.6,
          20.5,
          20,
          19,
          19.5,
          19.8,
          19.5,
          19.5,
          20.5,
          19.5,
          20.33,
          20.1,
          19.01,
          19.5,
          19.5,
          18.07,
          19.7,
          19,
          20,
          19.5,
          19.33,
          18.9,
          18.6,
          18,
          18,
          18,
          18.9,
          18.9,
          18.9,
          19.1,
          19.3,
          20.7,
          18.9,
          18.9,
          20.7,
          19.3,
          18.78,
          18.5,
          18,
          19.5,
          19.5,
          21,
          19.5,
          19.5,
          20,
          20,
          21.09,
          20,
          19.5,
          19.2,
          19.25,
          20.8,
          20.7
         ],
         "yaxis": "y2"
        },
        {
         "legendgroup": "monday",
         "line": {
          "color": "gray",
          "dash": "dot",
          "width": 0.5
         },
         "mode": "lines",
         "name": "Monday",
         "showlegend": true,
         "type": "scatter",
         "uid": "4872bccc-b750-4c3a-93b7-624b89458a60",
         "x": [
          "2019-02-11",
          "2019-02-11"
         ],
         "y": [
          0,
          4.291
         ],
         "yaxis": "y"
        },
        {
         "legendgroup": "monday",
         "line": {
          "color": "gray",
          "dash": "dot",
          "width": 0.5
         },
         "mode": "lines",
         "name": "Monday",
         "showlegend": false,
         "type": "scatter",
         "uid": "6847eeab-73a4-457c-b638-1d9ac912326c",
         "x": [
          "2019-02-18",
          "2019-02-18"
         ],
         "y": [
          0,
          4.291
         ],
         "yaxis": "y"
        },
        {
         "legendgroup": "monday",
         "line": {
          "color": "gray",
          "dash": "dot",
          "width": 0.5
         },
         "mode": "lines",
         "name": "Monday",
         "showlegend": false,
         "type": "scatter",
         "uid": "07677d5a-76e6-4a06-8b2e-8b4eb502dd21",
         "x": [
          "2019-02-25",
          "2019-02-25"
         ],
         "y": [
          0,
          4.291
         ],
         "yaxis": "y"
        },
        {
         "legendgroup": "monday",
         "line": {
          "color": "gray",
          "dash": "dot",
          "width": 0.5
         },
         "mode": "lines",
         "name": "Monday",
         "showlegend": false,
         "type": "scatter",
         "uid": "89eefd4c-2bd6-4291-8a25-6363e09298a0",
         "x": [
          "2019-03-04",
          "2019-03-04"
         ],
         "y": [
          0,
          4.291
         ],
         "yaxis": "y"
        },
        {
         "legendgroup": "monday",
         "line": {
          "color": "gray",
          "dash": "dot",
          "width": 0.5
         },
         "mode": "lines",
         "name": "Monday",
         "showlegend": false,
         "type": "scatter",
         "uid": "212ea8d8-7e35-4b61-b685-ac5e67fb856b",
         "x": [
          "2019-03-11",
          "2019-03-11"
         ],
         "y": [
          0,
          4.291
         ],
         "yaxis": "y"
        },
        {
         "legendgroup": "monday",
         "line": {
          "color": "gray",
          "dash": "dot",
          "width": 0.5
         },
         "mode": "lines",
         "name": "Monday",
         "showlegend": false,
         "type": "scatter",
         "uid": "6bad44ec-1d68-4ae0-a8c6-637a2f60032f",
         "x": [
          "2019-03-18",
          "2019-03-18"
         ],
         "y": [
          0,
          4.291
         ],
         "yaxis": "y"
        },
        {
         "legendgroup": "monday",
         "line": {
          "color": "gray",
          "dash": "dot",
          "width": 0.5
         },
         "mode": "lines",
         "name": "Monday",
         "showlegend": false,
         "type": "scatter",
         "uid": "10cb93bd-5e62-41a2-905e-f5f427003e63",
         "x": [
          "2019-03-25",
          "2019-03-25"
         ],
         "y": [
          0,
          4.291
         ],
         "yaxis": "y"
        },
        {
         "legendgroup": "monday",
         "line": {
          "color": "gray",
          "dash": "dot",
          "width": 0.5
         },
         "mode": "lines",
         "name": "Monday",
         "showlegend": false,
         "type": "scatter",
         "uid": "70e32b68-5348-4f17-97a8-49f1d70b22ee",
         "x": [
          "2019-04-01",
          "2019-04-01"
         ],
         "y": [
          0,
          4.291
         ],
         "yaxis": "y"
        },
        {
         "legendgroup": "monday",
         "line": {
          "color": "gray",
          "dash": "dot",
          "width": 0.5
         },
         "mode": "lines",
         "name": "Monday",
         "showlegend": false,
         "type": "scatter",
         "uid": "a5e3357c-7f46-4be7-8ec4-355f2caa866a",
         "x": [
          "2019-04-08",
          "2019-04-08"
         ],
         "y": [
          0,
          4.291
         ],
         "yaxis": "y"
        },
        {
         "legendgroup": "monday",
         "line": {
          "color": "gray",
          "dash": "dot",
          "width": 0.5
         },
         "mode": "lines",
         "name": "Monday",
         "showlegend": false,
         "type": "scatter",
         "uid": "4c3a9ae7-05db-4183-9670-5d856744291b",
         "x": [
          "2019-04-15",
          "2019-04-15"
         ],
         "y": [
          0,
          4.291
         ],
         "yaxis": "y"
        },
        {
         "legendgroup": "monday",
         "line": {
          "color": "gray",
          "dash": "dot",
          "width": 0.5
         },
         "mode": "lines",
         "name": "Monday",
         "showlegend": false,
         "type": "scatter",
         "uid": "a5b1fcf6-9e3e-4c32-b20f-4bd0a7e60912",
         "x": [
          "2019-04-22",
          "2019-04-22"
         ],
         "y": [
          0,
          4.291
         ],
         "yaxis": "y"
        },
        {
         "legendgroup": "monday",
         "line": {
          "color": "gray",
          "dash": "dot",
          "width": 0.5
         },
         "mode": "lines",
         "name": "Monday",
         "showlegend": false,
         "type": "scatter",
         "uid": "6da3384a-78ed-4c6f-bec7-020e88bb0bbd",
         "x": [
          "2019-04-29",
          "2019-04-29"
         ],
         "y": [
          0,
          4.291
         ],
         "yaxis": "y"
        },
        {
         "legendgroup": "monday",
         "line": {
          "color": "gray",
          "dash": "dot",
          "width": 0.5
         },
         "mode": "lines",
         "name": "Monday",
         "showlegend": false,
         "type": "scatter",
         "uid": "bf95c7a3-9904-4120-b635-98327e2381bd",
         "x": [
          "2019-05-06",
          "2019-05-06"
         ],
         "y": [
          0,
          4.291
         ],
         "yaxis": "y"
        },
        {
         "legendgroup": "monday",
         "line": {
          "color": "gray",
          "dash": "dot",
          "width": 0.5
         },
         "mode": "lines",
         "name": "Monday",
         "showlegend": false,
         "type": "scatter",
         "uid": "ab2a1bf8-46df-49f3-ad59-1295c1bf9318",
         "x": [
          "2019-05-13",
          "2019-05-13"
         ],
         "y": [
          0,
          4.291
         ],
         "yaxis": "y"
        },
        {
         "legendgroup": "monday",
         "line": {
          "color": "gray",
          "dash": "dot",
          "width": 0.5
         },
         "mode": "lines",
         "name": "Monday",
         "showlegend": false,
         "type": "scatter",
         "uid": "22d15dc6-30b1-48e2-bdae-86a472b41154",
         "x": [
          "2019-05-20",
          "2019-05-20"
         ],
         "y": [
          0,
          4.291
         ],
         "yaxis": "y"
        },
        {
         "legendgroup": "restriction",
         "line": {
          "color": "red",
          "width": 1
         },
         "mode": "lines",
         "name": "Water restriction start",
         "showlegend": true,
         "type": "scatter",
         "uid": "6639ef16-d238-489e-84b9-aa58ba742aac",
         "x": [
          "2019-02-13",
          "2019-02-13"
         ],
         "y": [
          0,
          4.291
         ],
         "yaxis": "y"
        },
        {
         "legendgroup": "restriction",
         "line": {
          "color": "darkgreen",
          "width": 1
         },
         "mode": "lines",
         "name": "Water restriction end",
         "showlegend": true,
         "type": "scatter",
         "uid": "46499496-b9b0-4f3d-aba7-879e0c0b6c07",
         "x": [
          "2019-02-22",
          "2019-02-22"
         ],
         "y": [
          0,
          4.291
         ],
         "yaxis": "y"
        },
        {
         "legendgroup": "weight_ref",
         "line": {
          "color": "orange",
          "dash": "dashdot",
          "width": 1
         },
         "mode": "lines",
         "name": "85% reference weight",
         "showlegend": true,
         "type": "scatter",
         "uid": "0e0ccd8f-6bce-4595-9cab-6aff582f6a91",
         "x": [
          "2019-02-13",
          "2019-02-22"
         ],
         "y": [
          19.21,
          19.21
         ],
         "yaxis": "y2"
        },
        {
         "legendgroup": "weight_ref",
         "line": {
          "color": "red",
          "dash": "dashdot",
          "width": 1
         },
         "mode": "lines",
         "name": "75% reference weight",
         "showlegend": true,
         "type": "scatter",
         "uid": "b4f7f551-40b9-4591-8a60-fcf2ea8bd14f",
         "x": [
          "2019-02-13",
          "2019-02-22"
         ],
         "y": [
          16.950000000000003,
          16.950000000000003
         ],
         "yaxis": "y2"
        },
        {
         "legendgroup": "restriction",
         "line": {
          "color": "red",
          "width": 1
         },
         "mode": "lines",
         "name": "Water restriction start",
         "showlegend": false,
         "type": "scatter",
         "uid": "fd172055-d935-42ab-bac0-eb91c25bab2a",
         "x": [
          "2019-03-08",
          "2019-03-08"
         ],
         "y": [
          0,
          4.291
         ],
         "yaxis": "y"
        },
        {
         "legendgroup": "restriction",
         "line": {
          "color": "darkgreen",
          "width": 1
         },
         "mode": "lines",
         "name": "Water restriction end",
         "showlegend": false,
         "type": "scatter",
         "uid": "541cbb79-49fd-4baa-b235-2b26dca561af",
         "x": [
          "2019-05-10",
          "2019-05-10"
         ],
         "y": [
          0,
          4.291
         ],
         "yaxis": "y"
        },
        {
         "legendgroup": "weight_ref",
         "line": {
          "color": "orange",
          "dash": "dashdot",
          "width": 1
         },
         "mode": "lines",
         "name": "85% reference weight",
         "showlegend": false,
         "type": "scatter",
         "uid": "438fbb91-a464-4abb-9b49-994fb0f84476",
         "x": [
          "2019-03-08",
          "2019-05-10"
         ],
         "y": [
          19.465,
          19.465
         ],
         "yaxis": "y2"
        },
        {
         "legendgroup": "weight_ref",
         "line": {
          "color": "red",
          "dash": "dashdot",
          "width": 1
         },
         "mode": "lines",
         "name": "75% reference weight",
         "showlegend": false,
         "type": "scatter",
         "uid": "633d48fa-62f8-4b51-b2e7-3bfe3cec702a",
         "x": [
          "2019-03-08",
          "2019-05-10"
         ],
         "y": [
          17.174999999999997,
          17.174999999999997
         ],
         "yaxis": "y2"
        }
       ],
       "layout": {
        "barmode": "stack",
        "height": 500,
        "legend": {
         "orientation": "v",
         "x": 1.1,
         "y": 0.9
        },
        "title": {
         "text": "Water intake and weight"
        },
        "width": 1000,
        "xaxis": {
         "range": [
          "2019-02-10",
          "2019-05-26"
         ],
         "title": {
          "text": "Date"
         }
        },
        "yaxis": {
         "range": [
          0,
          4.291
         ],
         "title": {
          "text": "Water intake (mL)"
         }
        },
        "yaxis2": {
         "overlaying": "y",
         "side": "right",
         "title": {
          "text": "Weight (g)"
         }
        }
       }
      },
      "text/html": [
       "<div>\n",
       "        \n",
       "        \n",
       "            <div id=\"fb4ab810-5439-4a2b-bf4b-7b61361e5a00\" class=\"plotly-graph-div\" style=\"height:500px; width:1000px;\"></div>\n",
       "            <script type=\"text/javascript\">\n",
       "                require([\"plotly\"], function(Plotly) {\n",
       "                    window.PLOTLYENV=window.PLOTLYENV || {};\n",
       "                    window.PLOTLYENV.BASE_URL='https://plot.ly';\n",
       "                    \n",
       "                if (document.getElementById(\"fb4ab810-5439-4a2b-bf4b-7b61361e5a00\")) {\n",
       "                    Plotly.newPlot(\n",
       "                        'fb4ab810-5439-4a2b-bf4b-7b61361e5a00',\n",
       "                        [{\"legendgroup\": \"water_type\", \"marker\": {\"color\": \"rgba(55, 128, 191, 0.7)\"}, \"name\": \"Water 10% Sucrose\", \"type\": \"bar\", \"uid\": \"534b81c1-833a-4b9b-8f19-2baa32b1ac83\", \"x\": [\"2019-02-19\", \"2019-02-21\", \"2019-02-22\", \"2019-02-23\", \"2019-02-24\", \"2019-02-25\", \"2019-02-26\", \"2019-02-27\", \"2019-02-28\", \"2019-03-01\", \"2019-03-02\", \"2019-03-03\", \"2019-03-04\", \"2019-03-06\", \"2019-03-07\", \"2019-03-08\", \"2019-03-09\", \"2019-03-10\", \"2019-03-11\", \"2019-03-12\", \"2019-03-13\", \"2019-03-14\", \"2019-03-15\", \"2019-03-16\", \"2019-03-17\", \"2019-03-18\", \"2019-03-19\", \"2019-03-20\", \"2019-03-21\", \"2019-03-22\", \"2019-03-23\", \"2019-03-24\", \"2019-03-25\", \"2019-03-26\", \"2019-03-27\", \"2019-03-28\", \"2019-03-29\", \"2019-03-30\", \"2019-03-31\", \"2019-04-01\", \"2019-04-02\", \"2019-04-03\", \"2019-04-04\", \"2019-04-05\", \"2019-04-06\", \"2019-04-07\", \"2019-04-09\", \"2019-04-10\", \"2019-04-11\", \"2019-04-12\", \"2019-04-13\", \"2019-04-14\", \"2019-04-15\", \"2019-04-16\", \"2019-04-17\", \"2019-04-18\", \"2019-04-19\", \"2019-04-20\", \"2019-04-21\", \"2019-04-22\", \"2019-04-23\", \"2019-04-24\", \"2019-04-25\", \"2019-04-26\", \"2019-04-29\", \"2019-04-30\", \"2019-05-01\", \"2019-05-03\", \"2019-05-06\", \"2019-05-07\", \"2019-05-08\", \"2019-05-09\", \"2019-05-22\", \"2019-05-23\"], \"y\": [1.278, 0.7231000000000001, null, null, null, null, null, null, null, null, null, null, null, null, null, 0.5536, 0.1683, null, 0.5508, 0.567, 1.6173, 0.36, 1.9388, null, null, 1.548, 0.812, 0.6698, 2.0265, 0.4284, null, null, 0.511, 0.9828, 2.61, 2.1035, 1.5368, null, null, 1.5774, 1.1392, 2.1328, 1.5704, 1.782, null, null, 4.091, 2.1644, 2.3408, 1.9737, null, null, 2.6865, 2.5636, 2.2775, 1.692, 1.5203, null, null, 1.2236, 0.5874, 1.0131, 2.2034, 1.0098, 1.7367, 1.338, 1.8905, 0.225, 1.7595, 0.5616, 1.6031, 1.224, 0.6704, 0.8075], \"yaxis\": \"y\"}, {\"legendgroup\": \"water_type\", \"marker\": {\"color\": \"blue\"}, \"name\": \"Water\", \"type\": \"bar\", \"uid\": \"a7584b3c-abaf-4bc9-935f-cb0b2dfb3e78\", \"x\": [\"2019-02-19\", \"2019-02-21\", \"2019-02-22\", \"2019-02-23\", \"2019-02-24\", \"2019-02-25\", \"2019-02-26\", \"2019-02-27\", \"2019-02-28\", \"2019-03-01\", \"2019-03-02\", \"2019-03-03\", \"2019-03-04\", \"2019-03-06\", \"2019-03-07\", \"2019-03-08\", \"2019-03-09\", \"2019-03-10\", \"2019-03-11\", \"2019-03-12\", \"2019-03-13\", \"2019-03-14\", \"2019-03-15\", \"2019-03-16\", \"2019-03-17\", \"2019-03-18\", \"2019-03-19\", \"2019-03-20\", \"2019-03-21\", \"2019-03-22\", \"2019-03-23\", \"2019-03-24\", \"2019-03-25\", \"2019-03-26\", \"2019-03-27\", \"2019-03-28\", \"2019-03-29\", \"2019-03-30\", \"2019-03-31\", \"2019-04-01\", \"2019-04-02\", \"2019-04-03\", \"2019-04-04\", \"2019-04-05\", \"2019-04-06\", \"2019-04-07\", \"2019-04-09\", \"2019-04-10\", \"2019-04-11\", \"2019-04-12\", \"2019-04-13\", \"2019-04-14\", \"2019-04-15\", \"2019-04-16\", \"2019-04-17\", \"2019-04-18\", \"2019-04-19\", \"2019-04-20\", \"2019-04-21\", \"2019-04-22\", \"2019-04-23\", \"2019-04-24\", \"2019-04-25\", \"2019-04-26\", \"2019-04-29\", \"2019-04-30\", \"2019-05-01\", \"2019-05-03\", \"2019-05-06\", \"2019-05-07\", \"2019-05-08\", \"2019-05-09\", \"2019-05-22\", \"2019-05-23\"], \"y\": [null, null, 0.0, 0.0, 0.0, 0.0, 0.0, 0.0, 0.0, 0.0, 0.0, 0.0, 0.0, 1.0, 1.0, null, 1.0, 1.0, null, null, null, null, null, 1.0, 1.0, null, null, null, null, null, 1.0, 1.0, null, null, null, null, null, 1.0, 1.0, null, null, null, null, null, 1.0, 1.0, null, null, null, null, 1.0, 1.0, null, null, null, null, null, 1.0, 1.0, null, null, null, null, null, null, null, null, null, null, null, null, null, null, null], \"yaxis\": \"y\"}, {\"legendgroup\": \"weight\", \"marker\": {\"color\": \"black\", \"line\": {\"color\": \"white\", \"width\": 1}, \"size\": 6}, \"mode\": \"lines+markers\", \"name\": \"Weight\", \"type\": \"scatter\", \"uid\": \"25163ec3-1e34-465e-b0d8-a9d908f6e141\", \"x\": [\"2019-02-19\", \"2019-02-19\", \"2019-02-21\", \"2019-02-21\", \"2019-03-05\", \"2019-03-06\", \"2019-03-07\", \"2019-03-08\", \"2019-03-09\", \"2019-03-11\", \"2019-03-12\", \"2019-03-13\", \"2019-03-13\", \"2019-03-14\", \"2019-03-15\", \"2019-03-18\", \"2019-03-19\", \"2019-03-20\", \"2019-03-21\", \"2019-03-22\", \"2019-03-25\", \"2019-03-26\", \"2019-03-27\", \"2019-03-28\", \"2019-03-29\", \"2019-04-01\", \"2019-04-02\", \"2019-04-03\", \"2019-04-04\", \"2019-04-04\", \"2019-04-05\", \"2019-04-08\", \"2019-04-09\", \"2019-04-09\", \"2019-04-10\", \"2019-04-11\", \"2019-04-12\", \"2019-04-15\", \"2019-04-16\", \"2019-04-17\", \"2019-04-18\", \"2019-04-19\", \"2019-04-22\", \"2019-04-23\", \"2019-04-24\", \"2019-04-24\", \"2019-04-25\", \"2019-04-26\", \"2019-04-29\", \"2019-04-30\", \"2019-05-01\", \"2019-05-03\", \"2019-05-06\", \"2019-05-07\", \"2019-05-08\", \"2019-05-09\", \"2019-05-22\", \"2019-05-23\"], \"y\": [17.45, 18.0, 17.6, 17.3, 22.9, 21.6, 20.5, 20.0, 19.0, 19.5, 19.8, 19.5, 19.5, 20.5, 19.5, 20.33, 20.1, 19.01, 19.5, 19.5, 18.07, 19.7, 19.0, 20.0, 19.5, 19.33, 18.9, 18.6, 18.0, 18.0, 18.0, 18.9, 18.9, 18.9, 19.1, 19.3, 20.7, 18.9, 18.9, 20.7, 19.3, 18.78, 18.5, 18.0, 19.5, 19.5, 21.0, 19.5, 19.5, 20.0, 20.0, 21.09, 20.0, 19.5, 19.2, 19.25, 20.8, 20.7], \"yaxis\": \"y2\"}, {\"legendgroup\": \"monday\", \"line\": {\"color\": \"gray\", \"dash\": \"dot\", \"width\": 0.5}, \"mode\": \"lines\", \"name\": \"Monday\", \"showlegend\": true, \"type\": \"scatter\", \"uid\": \"2069a860-d296-4e8e-a961-af666ecd40af\", \"x\": [\"2019-02-11\", \"2019-02-11\"], \"y\": [0, 4.291], \"yaxis\": \"y\"}, {\"legendgroup\": \"monday\", \"line\": {\"color\": \"gray\", \"dash\": \"dot\", \"width\": 0.5}, \"mode\": \"lines\", \"name\": \"Monday\", \"showlegend\": false, \"type\": \"scatter\", \"uid\": \"57738e0d-4096-4ffd-8f71-cbd7142bc482\", \"x\": [\"2019-02-18\", \"2019-02-18\"], \"y\": [0, 4.291], \"yaxis\": \"y\"}, {\"legendgroup\": \"monday\", \"line\": {\"color\": \"gray\", \"dash\": \"dot\", \"width\": 0.5}, \"mode\": \"lines\", \"name\": \"Monday\", \"showlegend\": false, \"type\": \"scatter\", \"uid\": \"97122fd4-af03-4489-8835-9ea09fb61eaf\", \"x\": [\"2019-02-25\", \"2019-02-25\"], \"y\": [0, 4.291], \"yaxis\": \"y\"}, {\"legendgroup\": \"monday\", \"line\": {\"color\": \"gray\", \"dash\": \"dot\", \"width\": 0.5}, \"mode\": \"lines\", \"name\": \"Monday\", \"showlegend\": false, \"type\": \"scatter\", \"uid\": \"88782d30-a26d-4631-b336-581704cb9d85\", \"x\": [\"2019-03-04\", \"2019-03-04\"], \"y\": [0, 4.291], \"yaxis\": \"y\"}, {\"legendgroup\": \"monday\", \"line\": {\"color\": \"gray\", \"dash\": \"dot\", \"width\": 0.5}, \"mode\": \"lines\", \"name\": \"Monday\", \"showlegend\": false, \"type\": \"scatter\", \"uid\": \"6b4255ba-b424-472f-966b-df46bc380488\", \"x\": [\"2019-03-11\", \"2019-03-11\"], \"y\": [0, 4.291], \"yaxis\": \"y\"}, {\"legendgroup\": \"monday\", \"line\": {\"color\": \"gray\", \"dash\": \"dot\", \"width\": 0.5}, \"mode\": \"lines\", \"name\": \"Monday\", \"showlegend\": false, \"type\": \"scatter\", \"uid\": \"52901aab-dd28-48b5-8aee-a4abbc9c88d1\", \"x\": [\"2019-03-18\", \"2019-03-18\"], \"y\": [0, 4.291], \"yaxis\": \"y\"}, {\"legendgroup\": \"monday\", \"line\": {\"color\": \"gray\", \"dash\": \"dot\", \"width\": 0.5}, \"mode\": \"lines\", \"name\": \"Monday\", \"showlegend\": false, \"type\": \"scatter\", \"uid\": \"6390eb63-1a1f-4d45-b3e2-c1b5ec5f5c25\", \"x\": [\"2019-03-25\", \"2019-03-25\"], \"y\": [0, 4.291], \"yaxis\": \"y\"}, {\"legendgroup\": \"monday\", \"line\": {\"color\": \"gray\", \"dash\": \"dot\", \"width\": 0.5}, \"mode\": \"lines\", \"name\": \"Monday\", \"showlegend\": false, \"type\": \"scatter\", \"uid\": \"f1d593f5-3859-4729-8932-f24bd1d22ada\", \"x\": [\"2019-04-01\", \"2019-04-01\"], \"y\": [0, 4.291], \"yaxis\": \"y\"}, {\"legendgroup\": \"monday\", \"line\": {\"color\": \"gray\", \"dash\": \"dot\", \"width\": 0.5}, \"mode\": \"lines\", \"name\": \"Monday\", \"showlegend\": false, \"type\": \"scatter\", \"uid\": \"b1cb6a2d-ab45-4879-94e9-3baf6fe7e60d\", \"x\": [\"2019-04-08\", \"2019-04-08\"], \"y\": [0, 4.291], \"yaxis\": \"y\"}, {\"legendgroup\": \"monday\", \"line\": {\"color\": \"gray\", \"dash\": \"dot\", \"width\": 0.5}, \"mode\": \"lines\", \"name\": \"Monday\", \"showlegend\": false, \"type\": \"scatter\", \"uid\": \"b5ea8112-8276-4299-86b1-f2f37fefe233\", \"x\": [\"2019-04-15\", \"2019-04-15\"], \"y\": [0, 4.291], \"yaxis\": \"y\"}, {\"legendgroup\": \"monday\", \"line\": {\"color\": \"gray\", \"dash\": \"dot\", \"width\": 0.5}, \"mode\": \"lines\", \"name\": \"Monday\", \"showlegend\": false, \"type\": \"scatter\", \"uid\": \"68fb9f0c-d3ae-47e4-a805-db8e751e6a86\", \"x\": [\"2019-04-22\", \"2019-04-22\"], \"y\": [0, 4.291], \"yaxis\": \"y\"}, {\"legendgroup\": \"monday\", \"line\": {\"color\": \"gray\", \"dash\": \"dot\", \"width\": 0.5}, \"mode\": \"lines\", \"name\": \"Monday\", \"showlegend\": false, \"type\": \"scatter\", \"uid\": \"00e1dac4-7039-4010-988b-b7888168d9e2\", \"x\": [\"2019-04-29\", \"2019-04-29\"], \"y\": [0, 4.291], \"yaxis\": \"y\"}, {\"legendgroup\": \"monday\", \"line\": {\"color\": \"gray\", \"dash\": \"dot\", \"width\": 0.5}, \"mode\": \"lines\", \"name\": \"Monday\", \"showlegend\": false, \"type\": \"scatter\", \"uid\": \"7ac34b2c-801c-428d-83bb-a0261eacf800\", \"x\": [\"2019-05-06\", \"2019-05-06\"], \"y\": [0, 4.291], \"yaxis\": \"y\"}, {\"legendgroup\": \"monday\", \"line\": {\"color\": \"gray\", \"dash\": \"dot\", \"width\": 0.5}, \"mode\": \"lines\", \"name\": \"Monday\", \"showlegend\": false, \"type\": \"scatter\", \"uid\": \"fa012d1d-3265-423d-9842-022dfe4612b1\", \"x\": [\"2019-05-13\", \"2019-05-13\"], \"y\": [0, 4.291], \"yaxis\": \"y\"}, {\"legendgroup\": \"monday\", \"line\": {\"color\": \"gray\", \"dash\": \"dot\", \"width\": 0.5}, \"mode\": \"lines\", \"name\": \"Monday\", \"showlegend\": false, \"type\": \"scatter\", \"uid\": \"bab3c2d9-5826-44d4-98ba-df1a6e60fb3c\", \"x\": [\"2019-05-20\", \"2019-05-20\"], \"y\": [0, 4.291], \"yaxis\": \"y\"}, {\"legendgroup\": \"restriction\", \"line\": {\"color\": \"red\", \"width\": 1}, \"mode\": \"lines\", \"name\": \"Water restriction start\", \"showlegend\": true, \"type\": \"scatter\", \"uid\": \"d9136388-3540-4adf-96d2-014e581ea7ac\", \"x\": [\"2019-02-13\", \"2019-02-13\"], \"y\": [0, 4.291], \"yaxis\": \"y\"}, {\"legendgroup\": \"restriction\", \"line\": {\"color\": \"darkgreen\", \"width\": 1}, \"mode\": \"lines\", \"name\": \"Water restriction end\", \"showlegend\": true, \"type\": \"scatter\", \"uid\": \"c78cf0e3-dd96-411b-9a28-4f56e15ab0d0\", \"x\": [\"2019-02-22\", \"2019-02-22\"], \"y\": [0, 4.291], \"yaxis\": \"y\"}, {\"legendgroup\": \"weight_ref\", \"line\": {\"color\": \"orange\", \"dash\": \"dashdot\", \"width\": 1}, \"mode\": \"lines\", \"name\": \"85% reference weight\", \"showlegend\": true, \"type\": \"scatter\", \"uid\": \"cdb44d53-391e-453f-b2b8-464c4cb1092c\", \"x\": [\"2019-02-13\", \"2019-02-22\"], \"y\": [19.21, 19.21], \"yaxis\": \"y2\"}, {\"legendgroup\": \"weight_ref\", \"line\": {\"color\": \"red\", \"dash\": \"dashdot\", \"width\": 1}, \"mode\": \"lines\", \"name\": \"75% reference weight\", \"showlegend\": true, \"type\": \"scatter\", \"uid\": \"09c7cbc0-c9bf-47d8-92fb-d9e807ba6153\", \"x\": [\"2019-02-13\", \"2019-02-22\"], \"y\": [16.950000000000003, 16.950000000000003], \"yaxis\": \"y2\"}, {\"legendgroup\": \"restriction\", \"line\": {\"color\": \"red\", \"width\": 1}, \"mode\": \"lines\", \"name\": \"Water restriction start\", \"showlegend\": false, \"type\": \"scatter\", \"uid\": \"e9051ef2-16af-4768-978b-a632bbd5c6bc\", \"x\": [\"2019-03-08\", \"2019-03-08\"], \"y\": [0, 4.291], \"yaxis\": \"y\"}, {\"legendgroup\": \"restriction\", \"line\": {\"color\": \"darkgreen\", \"width\": 1}, \"mode\": \"lines\", \"name\": \"Water restriction end\", \"showlegend\": false, \"type\": \"scatter\", \"uid\": \"8ed86976-6d20-4adc-8de8-bfa91c736df8\", \"x\": [\"2019-05-10\", \"2019-05-10\"], \"y\": [0, 4.291], \"yaxis\": \"y\"}, {\"legendgroup\": \"weight_ref\", \"line\": {\"color\": \"orange\", \"dash\": \"dashdot\", \"width\": 1}, \"mode\": \"lines\", \"name\": \"85% reference weight\", \"showlegend\": false, \"type\": \"scatter\", \"uid\": \"8d49c98b-2696-4a57-8815-7af3df0c105b\", \"x\": [\"2019-03-08\", \"2019-05-10\"], \"y\": [19.465, 19.465], \"yaxis\": \"y2\"}, {\"legendgroup\": \"weight_ref\", \"line\": {\"color\": \"red\", \"dash\": \"dashdot\", \"width\": 1}, \"mode\": \"lines\", \"name\": \"75% reference weight\", \"showlegend\": false, \"type\": \"scatter\", \"uid\": \"c839604c-6e8d-4142-9e95-24f496528e92\", \"x\": [\"2019-03-08\", \"2019-05-10\"], \"y\": [17.174999999999997, 17.174999999999997], \"yaxis\": \"y2\"}],\n",
       "                        {\"barmode\": \"stack\", \"height\": 500, \"legend\": {\"orientation\": \"v\", \"x\": 1.1, \"y\": 0.9}, \"title\": {\"text\": \"Water intake and weight\"}, \"width\": 1000, \"xaxis\": {\"range\": [\"2019-02-10\", \"2019-05-26\"], \"title\": {\"text\": \"Date\"}}, \"yaxis\": {\"range\": [0, 4.291], \"title\": {\"text\": \"Water intake (mL)\"}}, \"yaxis2\": {\"overlaying\": \"y\", \"side\": \"right\", \"title\": {\"text\": \"Weight (g)\"}}},\n",
       "                        {\"showLink\": false, \"linkText\": \"Export to plot.ly\", \"plotlyServerURL\": \"https://plot.ly\", \"responsive\": true}\n",
       "                    ).then(function(){\n",
       "                            \n",
       "var gd = document.getElementById('fb4ab810-5439-4a2b-bf4b-7b61361e5a00');\n",
       "var x = new MutationObserver(function (mutations, observer) {{\n",
       "        var display = window.getComputedStyle(gd).display;\n",
       "        if (!display || display === 'none') {{\n",
       "            console.log([gd, 'removed!']);\n",
       "            Plotly.purge(gd);\n",
       "            observer.disconnect();\n",
       "        }}\n",
       "}});\n",
       "\n",
       "// Listen for the removal of the full notebook cells\n",
       "var notebookContainer = gd.closest('#notebook-container');\n",
       "if (notebookContainer) {{\n",
       "    x.observe(notebookContainer, {childList: true});\n",
       "}}\n",
       "\n",
       "// Listen for the clearing of the current output cell\n",
       "var outputEl = gd.closest('.output');\n",
       "if (outputEl) {{\n",
       "    x.observe(outputEl, {childList: true});\n",
       "}}\n",
       "\n",
       "                        })\n",
       "                };\n",
       "                });\n",
       "            </script>\n",
       "        </div>"
      ]
     },
     "metadata": {},
     "output_type": "display_data"
    }
   ],
   "source": [
    "subj = subject.Subject & {'subject_nickname': 'ibl_witten_10'}\n",
    "# get water and date\n",
    "water_info_query = (action.WaterAdministration & subj).proj(\n",
    "    'water_administered', 'watertype_name', water_date='DATE(administration_time)')\n",
    "water_info = water_info_query.fetch(as_dict=True)\n",
    "water_info = pd.DataFrame(water_info)\n",
    "water_types = water_info.watertype_name.unique()\n",
    "water_info_type = water_info.pivot_table(\n",
    "    index='water_date', columns='watertype_name', values='water_administered', aggfunc='sum')\n",
    "max_water_intake = np.nanmax(water_info_type.values) + 0.2\n",
    "yrange_water = [0, max_water_intake]\n",
    "water_info_type = water_info_type.where((pd.notnull(water_info_type)), None)\n",
    "weight_info_query = (action.Weighing & subj).proj(\n",
    "    'weight', weighing_date='DATE(weighing_time)')\n",
    "weight_info = weight_info_query.fetch(as_dict=True)\n",
    "weight_info = pd.DataFrame(weight_info)\n",
    "weight_info = weight_info.where((pd.notnull(weight_info)), None)\n",
    "\n",
    "\n",
    "# get date range\n",
    "d = putils.get_date_range(subj)\n",
    "\n",
    "# get water restriction period\n",
    "water_restrictions = (action.WaterRestriction & subj).proj(\n",
    "    'reference_weight',\n",
    "    res_start='DATE(restriction_start_time)', res_end='DATE(restriction_end_time)')\n",
    "\n",
    "\n",
    "data = [\n",
    "    go.Bar(\n",
    "        x = [t.strftime('%Y-%m-%d') for t in water_info_type.index.tolist()],\n",
    "        y = water_info_type[water_type].tolist(),\n",
    "        marker = dict(color = water_type_map[water_type]),\n",
    "        name = water_type,\n",
    "        yaxis = 'y1',\n",
    "        legendgroup='water_type'\n",
    "    )\n",
    "    for water_type in water_types\n",
    "]\n",
    "\n",
    "data.append(\n",
    "    go.Scatter(\n",
    "        x=[t.strftime('%Y-%m-%d') for t in weight_info['weighing_date'].tolist()],\n",
    "        y=weight_info['weight'].tolist(),\n",
    "        mode='lines+markers',\n",
    "        name='Weight',\n",
    "        marker=dict(\n",
    "            size=6,\n",
    "            color='black',\n",
    "            line = dict(\n",
    "            color = 'white',\n",
    "            width = 1)\n",
    "        ),\n",
    "        legendgroup='weight',\n",
    "        yaxis = 'y2'\n",
    "    ))\n",
    "\n",
    "# monday marks\n",
    "for imonday, monday in enumerate(d['mondays']):\n",
    "    if imonday == 0:\n",
    "        show_monday_legend=True  \n",
    "    else:\n",
    "        show_monday_legend=False\n",
    "    data.append(\n",
    "        go.Scatter(\n",
    "            x=[monday, monday],\n",
    "            y=yrange_water,\n",
    "            mode=\"lines\",\n",
    "            line=dict(\n",
    "                width=0.5,\n",
    "                color='gray',\n",
    "                dash='dot'\n",
    "            ),\n",
    "            name='Monday',\n",
    "            yaxis='y1',\n",
    "            showlegend=show_monday_legend,\n",
    "            legendgroup='monday'\n",
    "        )\n",
    "    )\n",
    "\n",
    "# water restriction marks and reference weight marks\n",
    "for iwater, water_res in enumerate(water_restrictions.fetch(as_dict=True)):\n",
    "    \n",
    "    if iwater==0:\n",
    "        show_res_legend = True\n",
    "    else:\n",
    "        show_res_legend = False\n",
    "    \n",
    "    res_start = water_res['res_start'].strftime('%Y-%m-%d')\n",
    "    \n",
    "    if water_res['res_end']:\n",
    "        res_end = water_res['res_end'].strftime('%Y-%m-%d')\n",
    "    else:\n",
    "        res_end = last_date_str\n",
    "    data.append(\n",
    "        go.Scatter(\n",
    "            x=[res_start, res_start],\n",
    "            y=yrange_water,\n",
    "            mode=\"lines\",\n",
    "            line=dict(\n",
    "                width=1,\n",
    "                color='red',\n",
    "            ),\n",
    "            name='Water restriction start',\n",
    "            yaxis='y1',\n",
    "            showlegend=show_res_legend,\n",
    "            legendgroup='restriction'\n",
    "        )\n",
    "    )\n",
    "    \n",
    "    if water_res['res_end']:\n",
    "\n",
    "        data.append(\n",
    "            go.Scatter(\n",
    "                x=[res_end, res_end],\n",
    "                y=yrange_water,\n",
    "                mode=\"lines\",\n",
    "                line=dict(\n",
    "                    width=1,\n",
    "                    color='darkgreen',\n",
    "                ),\n",
    "                name='Water restriction end',\n",
    "                yaxis='y1',\n",
    "                showlegend=show_res_legend,\n",
    "                legendgroup='restriction'\n",
    "            )\n",
    "        )\n",
    "    \n",
    "     \n",
    "    data.append(\n",
    "        go.Scatter(\n",
    "            x=[res_start, res_end],\n",
    "            y=[water_res['reference_weight']*0.85, water_res['reference_weight']*0.85],\n",
    "            mode=\"lines\",\n",
    "            line=dict(\n",
    "                width=1,\n",
    "                color='orange',\n",
    "                dash='dashdot'\n",
    "            ),\n",
    "            name='85% reference weight',\n",
    "            yaxis='y2',\n",
    "            showlegend=show_res_legend,\n",
    "            legendgroup='weight_ref'\n",
    "        )\n",
    "    )\n",
    "    \n",
    "    data.append(\n",
    "        go.Scatter(\n",
    "            x=[res_start, res_end],\n",
    "            y=[water_res['reference_weight']*0.75, water_res['reference_weight']*0.75],\n",
    "            mode=\"lines\",\n",
    "            line=dict(\n",
    "                width=1,\n",
    "                color='red',\n",
    "                dash='dashdot'\n",
    "            ),\n",
    "            name='75% reference weight',\n",
    "            yaxis='y2',\n",
    "            showlegend=show_res_legend,\n",
    "            legendgroup='weight_ref'\n",
    "        )\n",
    "    )\n",
    "\n",
    "\n",
    "\n",
    "layout = go.Layout(\n",
    "    yaxis=dict(\n",
    "        title='Water intake (mL)',\n",
    "        range=yrange_water\n",
    "    ),\n",
    "    yaxis2=dict(\n",
    "        title='Weight (g)',\n",
    "        overlaying='y',\n",
    "        side='right',\n",
    "    ),\n",
    "    width=1000,\n",
    "    height=500,\n",
    "    title='Water intake and weight', \n",
    "    xaxis=dict(\n",
    "        title='Date',\n",
    "        range=[d['first_date_str'], d['last_date_str']]\n",
    "    ), \n",
    "    legend=dict(\n",
    "        x=1.1, \n",
    "        y=0.9,\n",
    "        orientation='v'),\n",
    "    barmode='stack'\n",
    ")\n",
    "fig = go.Figure(data=data, layout=layout)\n",
    "plotly.offline.iplot(fig)"
   ]
  },
  {
   "cell_type": "code",
   "execution_count": 6,
   "metadata": {},
   "outputs": [],
   "source": [
    "f = open(\"water_weight.json\",\"w\")\n",
    "s = json.dumps(fig.to_plotly_json())\n",
    "f.write(s)\n",
    "f.close()"
   ]
  }
 ],
 "metadata": {
  "kernelspec": {
   "display_name": "Python 3",
   "language": "python",
   "name": "python3"
  },
  "language_info": {
   "codemirror_mode": {
    "name": "ipython",
    "version": 3
   },
   "file_extension": ".py",
   "mimetype": "text/x-python",
   "name": "python",
   "nbconvert_exporter": "python",
   "pygments_lexer": "ipython3",
   "version": "3.6.6"
  }
 },
 "nbformat": 4,
 "nbformat_minor": 2
}
